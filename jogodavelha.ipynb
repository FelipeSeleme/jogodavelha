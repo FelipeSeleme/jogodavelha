{
 "cells": [
  {
   "cell_type": "markdown",
   "metadata": {},
   "source": [
    "Esse código simula um jogo da velha para dois jogadores. O tabuleiro é representado por uma lista de listas, onde cada lista interna representa uma linha do tabuleiro. O código é capaz de verificar se houve um vencedor ou se o jogo terminou empatado."
   ]
  },
  {
   "cell_type": "code",
   "execution_count": 14,
   "metadata": {},
   "outputs": [],
   "source": [
    "# Cria uma lista com 9 elementos vazios representando o tabuleiro\n",
    "tabuleiro = [\" \" for i in range(0,9)]"
   ]
  },
  {
   "cell_type": "code",
   "execution_count": 15,
   "metadata": {},
   "outputs": [],
   "source": [
    "# Criar uma função para imprimir o tabuleiro\n",
    "def imprime_tabuleiro():\n",
    "    linha1 = \"| {} | {} | {} |\".format(tabuleiro[0], tabuleiro[1], tabuleiro[2])\n",
    "    linha2 = \"| {} | {} | {} |\".format(tabuleiro[3], tabuleiro[4], tabuleiro[5])\n",
    "    linha3 = \"| {} | {} | {} |\".format(tabuleiro[6], tabuleiro[7], tabuleiro[8])\n",
    "\n",
    "    print()\n",
    "    print(linha1)\n",
    "    print(linha2)\n",
    "    print(linha3)\n",
    "    print()"
   ]
  },
  {
   "cell_type": "code",
   "execution_count": 16,
   "metadata": {},
   "outputs": [],
   "source": [
    "# Criar uma função para pegar a jogada do jogador e atualizar o tabuleiro\n",
    "def jogada_jogador(simbolo):\n",
    "    if simbolo == \"X\":\n",
    "        numero = 1\n",
    "    elif simbolo == \"O\":\n",
    "        numero = 2\n",
    "\n",
    "    print(\"Vez do jogador #{}!\".format(numero))\n",
    "    jogada = int(input(\"Digite um número de 1 a 9: \"))\n",
    "    if tabuleiro[jogada - 1] == \" \":\n",
    "        tabuleiro[jogada - 1] = simbolo\n",
    "    else:\n",
    "        print()\n",
    "        print(\"Jogada inválida!\")\n",
    "        jogada_jogador(simbolo)"
   ]
  },
  {
   "cell_type": "code",
   "execution_count": 17,
   "metadata": {},
   "outputs": [],
   "source": [
    "# Criar uma função para verificar se o jogo acabou\n",
    "def verifica_fim_de_jogo():\n",
    "    if(tabuleiro[0] == tabuleiro[1] == tabuleiro[2] != \" \" or\n",
    "       tabuleiro[3] == tabuleiro[4] == tabuleiro[5] != \" \" or\n",
    "       tabuleiro[6] == tabuleiro[7] == tabuleiro[8] != \" \" or\n",
    "       tabuleiro[0] == tabuleiro[3] == tabuleiro[6] != \" \" or\n",
    "       tabuleiro[1] == tabuleiro[4] == tabuleiro[7] != \" \" or\n",
    "       tabuleiro[2] == tabuleiro[5] == tabuleiro[8] != \" \" or\n",
    "       tabuleiro[0] == tabuleiro[4] == tabuleiro[8] != \" \" or\n",
    "       tabuleiro[2] == tabuleiro[4] == tabuleiro[6] != \" \"):\n",
    "        return True\n",
    "    else:\n",
    "        return False"
   ]
  },
  {
   "cell_type": "code",
   "execution_count": 18,
   "metadata": {},
   "outputs": [],
   "source": [
    "# Criar uma função para verificar se o jogo empatou\n",
    "def verifica_empate():\n",
    "    if \" \" not in tabuleiro:\n",
    "        return True\n",
    "    else:\n",
    "        return False"
   ]
  },
  {
   "cell_type": "code",
   "execution_count": 19,
   "metadata": {},
   "outputs": [
    {
     "name": "stdout",
     "output_type": "stream",
     "text": [
      "Bem-vindo ao jogo da velha!\n",
      "=-=-=-=-=-=-=-=-=-=-=-=-=-=\n",
      "\n",
      "Para jogar, digite um número de 1 a 9 para escolher a posição no tabuleiro.\n",
      "\n",
      " 1 | 2 | 3 \n",
      " 4 | 5 | 6 \n",
      " 7 | 8 | 9 \n",
      "Vez do jogador #1!\n",
      "\n",
      "|   |   | X |\n",
      "|   |   |   |\n",
      "|   |   |   |\n",
      "\n",
      "Vez do jogador #2!\n",
      "\n",
      "|   |   | X |\n",
      "|   | O |   |\n",
      "|   |   |   |\n",
      "\n",
      "Vez do jogador #1!\n",
      "\n",
      "|   |   | X |\n",
      "| X | O |   |\n",
      "|   |   |   |\n",
      "\n",
      "Vez do jogador #2!\n",
      "\n",
      "| O |   | X |\n",
      "| X | O |   |\n",
      "|   |   |   |\n",
      "\n",
      "Vez do jogador #1!\n",
      "\n",
      "| O |   | X |\n",
      "| X | O |   |\n",
      "|   |   | X |\n",
      "\n",
      "Vez do jogador #2!\n",
      "\n",
      "| O |   | X |\n",
      "| X | O | O |\n",
      "|   |   | X |\n",
      "\n",
      "Vez do jogador #1!\n",
      "\n",
      "Jogada inválida!\n",
      "Vez do jogador #1!\n",
      "\n",
      "| O |   | X |\n",
      "| X | O | O |\n",
      "| X |   | X |\n",
      "\n",
      "Vez do jogador #2!\n",
      "\n",
      "| O | O | X |\n",
      "| X | O | O |\n",
      "| X |   | X |\n",
      "\n",
      "Vez do jogador #1!\n",
      "\n",
      "| O | O | X |\n",
      "| X | O | O |\n",
      "| X | X | X |\n",
      "\n",
      "X ganhou!, parabéns!\n"
     ]
    }
   ],
   "source": [
    "# Rodar o jogo\n",
    "print(\"Bem-vindo ao jogo da velha!\")\n",
    "print(\"=-=-=-=-=-=-=-=-=-=-=-=-=-=\")\n",
    "print()\n",
    "print(\"Para jogar, digite um número de 1 a 9 para escolher a posição no tabuleiro.\")\n",
    "print()\n",
    "print(\" 1 | 2 | 3 \")\n",
    "print(\" 4 | 5 | 6 \")\n",
    "print(\" 7 | 8 | 9 \")\n",
    "\n",
    "while True:\n",
    "    jogada_jogador(\"X\")\n",
    "    imprime_tabuleiro()\n",
    "    if verifica_fim_de_jogo():\n",
    "        print(\"X ganhou!, parabéns!\")\n",
    "        break\n",
    "    elif verifica_empate():\n",
    "        print(\"O jogo empatou!\")\n",
    "        break\n",
    "\n",
    "    jogada_jogador(\"O\")\n",
    "    imprime_tabuleiro()\n",
    "    if verifica_fim_de_jogo():\n",
    "        print(\"O ganhou!, parabéns!\")\n",
    "        break"
   ]
  }
 ],
 "metadata": {
  "kernelspec": {
   "display_name": "Python 3",
   "language": "python",
   "name": "python3"
  },
  "language_info": {
   "codemirror_mode": {
    "name": "ipython",
    "version": 3
   },
   "file_extension": ".py",
   "mimetype": "text/x-python",
   "name": "python",
   "nbconvert_exporter": "python",
   "pygments_lexer": "ipython3",
   "version": "3.11.4"
  },
  "orig_nbformat": 4
 },
 "nbformat": 4,
 "nbformat_minor": 2
}
